{
 "cells": [
  {
   "cell_type": "markdown",
   "metadata": {},
   "source": [
    "# TuK1 - Exercise: Phyiscal Optimization\n",
    "## Compression Selection"
   ]
  },
  {
   "cell_type": "code",
   "execution_count": 1,
   "metadata": {},
   "outputs": [],
   "source": [
    "import enum\n",
    "import pickle\n",
    "import numpy as np\n",
    "import pandas as pd\n",
    "\n",
    "class EncodingType(enum.Enum):\n",
    "    DictionaryFSBA = 0\n",
    "    DictionarySIMDBP128 = 1\n",
    "    FrameOfReferenceFSBA = 2\n",
    "    FrameOfReferenceSIMDBP128 = 3\n",
    "    FixedStringDictionaryFSBA = 4\n",
    "    FixedStringDictionarySIMDBP128 = 5\n",
    "    Unencoded = 6\n",
    "    RunLength = 7\n",
    "    LZ4SIMDBP128 = 8"
   ]
  },
  {
   "cell_type": "code",
   "execution_count": 2,
   "metadata": {},
   "outputs": [],
   "source": [
    "with open('runtimes.pickle', 'rb') as input:\n",
    "    deserialized_runtimes = pickle.load(input)\n",
    "\n",
    "with open('sizes.pickle', 'rb') as input:\n",
    "    deserialized_sizes = pickle.load(input)\n",
    "\n",
    "# Both structures are three-dimensional numpy arrays.\n",
    "# To obtain the size of table_id 5, column 1, and LZ4 Encoding (see above) use deserialized_sizes[5, 1, 8]\n",
    "assert np.shape(deserialized_runtimes) == np.shape(deserialized_sizes)"
   ]
  },
  {
   "cell_type": "code",
   "execution_count": 3,
   "metadata": {},
   "outputs": [
    {
     "data": {
      "text/plain": "   TABLE_ID TABLE_NAME  ROW_COUNT  MAX_CHUNK_SIZE\n0         0   customer     150000          100000\n1         1   lineitem    6001215          100000\n2         2     nation         25          100000\n3         3     orders    1500000          100000\n4         4       part     200000          100000\n5         5   partsupp     800000          100000\n6         6     region          5          100000\n7         7   supplier      10000          100000",
      "text/html": "<div>\n<style scoped>\n    .dataframe tbody tr th:only-of-type {\n        vertical-align: middle;\n    }\n\n    .dataframe tbody tr th {\n        vertical-align: top;\n    }\n\n    .dataframe thead th {\n        text-align: right;\n    }\n</style>\n<table border=\"1\" class=\"dataframe\">\n  <thead>\n    <tr style=\"text-align: right;\">\n      <th></th>\n      <th>TABLE_ID</th>\n      <th>TABLE_NAME</th>\n      <th>ROW_COUNT</th>\n      <th>MAX_CHUNK_SIZE</th>\n    </tr>\n  </thead>\n  <tbody>\n    <tr>\n      <th>0</th>\n      <td>0</td>\n      <td>customer</td>\n      <td>150000</td>\n      <td>100000</td>\n    </tr>\n    <tr>\n      <th>1</th>\n      <td>1</td>\n      <td>lineitem</td>\n      <td>6001215</td>\n      <td>100000</td>\n    </tr>\n    <tr>\n      <th>2</th>\n      <td>2</td>\n      <td>nation</td>\n      <td>25</td>\n      <td>100000</td>\n    </tr>\n    <tr>\n      <th>3</th>\n      <td>3</td>\n      <td>orders</td>\n      <td>1500000</td>\n      <td>100000</td>\n    </tr>\n    <tr>\n      <th>4</th>\n      <td>4</td>\n      <td>part</td>\n      <td>200000</td>\n      <td>100000</td>\n    </tr>\n    <tr>\n      <th>5</th>\n      <td>5</td>\n      <td>partsupp</td>\n      <td>800000</td>\n      <td>100000</td>\n    </tr>\n    <tr>\n      <th>6</th>\n      <td>6</td>\n      <td>region</td>\n      <td>5</td>\n      <td>100000</td>\n    </tr>\n    <tr>\n      <th>7</th>\n      <td>7</td>\n      <td>supplier</td>\n      <td>10000</td>\n      <td>100000</td>\n    </tr>\n  </tbody>\n</table>\n</div>"
     },
     "execution_count": 3,
     "metadata": {},
     "output_type": "execute_result"
    }
   ],
   "source": [
    "tables = pd.read_csv('table_meta_data.csv')\n",
    "tables"
   ]
  },
  {
   "cell_type": "code",
   "execution_count": 4,
   "metadata": {},
   "outputs": [
    {
     "data": {
      "text/plain": "   ATTRIBUTE_ID TABLE_NAME  COLUMN_NAME DATA_TYPE  DISTINCT_VALUE_COUNT  \\\n0           0_0   customer    c_custkey       int                150000   \n1           0_1   customer       c_name    string                150000   \n2           0_2   customer    c_address    string                150000   \n3           0_3   customer  c_nationkey       int                    25   \n4           0_4   customer      c_phone    string                150000   \n..          ...        ...          ...       ...                   ...   \n56          7_2   supplier    s_address    string                 10000   \n57          7_3   supplier  s_nationkey       int                    25   \n58          7_4   supplier      s_phone    string                 10000   \n59          7_5   supplier    s_acctbal     float                  9955   \n60          7_6   supplier    s_comment    string                 10000   \n\n    IS_NULLABLE  \n0         False  \n1         False  \n2         False  \n3         False  \n4         False  \n..          ...  \n56        False  \n57        False  \n58        False  \n59        False  \n60        False  \n\n[61 rows x 6 columns]",
      "text/html": "<div>\n<style scoped>\n    .dataframe tbody tr th:only-of-type {\n        vertical-align: middle;\n    }\n\n    .dataframe tbody tr th {\n        vertical-align: top;\n    }\n\n    .dataframe thead th {\n        text-align: right;\n    }\n</style>\n<table border=\"1\" class=\"dataframe\">\n  <thead>\n    <tr style=\"text-align: right;\">\n      <th></th>\n      <th>ATTRIBUTE_ID</th>\n      <th>TABLE_NAME</th>\n      <th>COLUMN_NAME</th>\n      <th>DATA_TYPE</th>\n      <th>DISTINCT_VALUE_COUNT</th>\n      <th>IS_NULLABLE</th>\n    </tr>\n  </thead>\n  <tbody>\n    <tr>\n      <th>0</th>\n      <td>0_0</td>\n      <td>customer</td>\n      <td>c_custkey</td>\n      <td>int</td>\n      <td>150000</td>\n      <td>False</td>\n    </tr>\n    <tr>\n      <th>1</th>\n      <td>0_1</td>\n      <td>customer</td>\n      <td>c_name</td>\n      <td>string</td>\n      <td>150000</td>\n      <td>False</td>\n    </tr>\n    <tr>\n      <th>2</th>\n      <td>0_2</td>\n      <td>customer</td>\n      <td>c_address</td>\n      <td>string</td>\n      <td>150000</td>\n      <td>False</td>\n    </tr>\n    <tr>\n      <th>3</th>\n      <td>0_3</td>\n      <td>customer</td>\n      <td>c_nationkey</td>\n      <td>int</td>\n      <td>25</td>\n      <td>False</td>\n    </tr>\n    <tr>\n      <th>4</th>\n      <td>0_4</td>\n      <td>customer</td>\n      <td>c_phone</td>\n      <td>string</td>\n      <td>150000</td>\n      <td>False</td>\n    </tr>\n    <tr>\n      <th>...</th>\n      <td>...</td>\n      <td>...</td>\n      <td>...</td>\n      <td>...</td>\n      <td>...</td>\n      <td>...</td>\n    </tr>\n    <tr>\n      <th>56</th>\n      <td>7_2</td>\n      <td>supplier</td>\n      <td>s_address</td>\n      <td>string</td>\n      <td>10000</td>\n      <td>False</td>\n    </tr>\n    <tr>\n      <th>57</th>\n      <td>7_3</td>\n      <td>supplier</td>\n      <td>s_nationkey</td>\n      <td>int</td>\n      <td>25</td>\n      <td>False</td>\n    </tr>\n    <tr>\n      <th>58</th>\n      <td>7_4</td>\n      <td>supplier</td>\n      <td>s_phone</td>\n      <td>string</td>\n      <td>10000</td>\n      <td>False</td>\n    </tr>\n    <tr>\n      <th>59</th>\n      <td>7_5</td>\n      <td>supplier</td>\n      <td>s_acctbal</td>\n      <td>float</td>\n      <td>9955</td>\n      <td>False</td>\n    </tr>\n    <tr>\n      <th>60</th>\n      <td>7_6</td>\n      <td>supplier</td>\n      <td>s_comment</td>\n      <td>string</td>\n      <td>10000</td>\n      <td>False</td>\n    </tr>\n  </tbody>\n</table>\n<p>61 rows × 6 columns</p>\n</div>"
     },
     "execution_count": 4,
     "metadata": {},
     "output_type": "execute_result"
    }
   ],
   "source": [
    "attributes = pd.read_csv('attribute_meta_data.csv')\n",
    "attributes"
   ]
  },
  {
   "cell_type": "markdown",
   "metadata": {},
   "source": [
    "### Let's take a look at the options for the `l_shipdate` column of the `lineitem` table"
   ]
  },
  {
   "cell_type": "code",
   "execution_count": 5,
   "metadata": {},
   "outputs": [
    {
     "name": "stdout",
     "output_type": "stream",
     "text": [
      "10\n",
      "Encoding EncodingType.DictionaryFSBA                  >> runtime:        1,335.04\tsize:      146,729.13\n",
      "Encoding EncodingType.DictionarySIMDBP128             >> runtime:       24,452.76\tsize:      116,592.49\n",
      "\tLeft out EncodingType.FrameOfReferenceFSBA as it apparently not supporting the data type of the requested column.\n",
      "\tThis is marked (admittedly not very nice) with 0.0 runtimes and a size of np.finfo(np.float64).max bytes\n",
      "\tLeft out EncodingType.FrameOfReferenceSIMDBP128 as it apparently not supporting the data type of the requested column.\n",
      "\tThis is marked (admittedly not very nice) with 0.0 runtimes and a size of np.finfo(np.float64).max bytes\n",
      "Encoding EncodingType.FixedStringDictionaryFSBA       >> runtime:          349.11\tsize:      138,721.16\n",
      "Encoding EncodingType.FixedStringDictionarySIMDBP128  >> runtime:       15,711.15\tsize:      108,546.12\n",
      "Encoding EncodingType.Unencoded                       >> runtime:        4,604.35\tsize:    3,200,168.00\n",
      "Encoding EncodingType.RunLength                       >> runtime:       29,057.68\tsize:    3,411,807.87\n",
      "Encoding EncodingType.LZ4SIMDBP128                    >> runtime:    4,324,280.58\tsize:      544,684.79\n"
     ]
    }
   ],
   "source": [
    "lineitem_id = tables.query('TABLE_NAME == \"lineitem\"').iloc[0]['TABLE_ID']\n",
    "shipdate = attributes.query('COLUMN_NAME == \"l_shipdate\"').iloc[0]['ATTRIBUTE_ID']\n",
    "shipdate_id = int(str(shipdate).split('_')[1])\n",
    "print(shipdate_id)\n",
    "for encoding in EncodingType:\n",
    "    runtime = deserialized_runtimes[lineitem_id, shipdate_id, encoding.value]\n",
    "    size = deserialized_sizes[lineitem_id, shipdate_id, encoding.value]\n",
    "    if size < np.finfo(np.float64).max:\n",
    "        print(f'Encoding {encoding: <44} >> runtime: {runtime: >15,.2f}', end='')\n",
    "        print(f'\\tsize: {size: >15,.2f}')\n",
    "    else:\n",
    "        print(f'\\tLeft out {encoding} as it apparently not supporting the data type of the requested column.')\n",
    "        print('\\tThis is marked (admittedly not very nice) with 0.0 runtimes and a size of np.finfo(np.float64).max bytes')"
   ]
  },
  {
   "cell_type": "code",
   "execution_count": 6,
   "metadata": {},
   "outputs": [
    {
     "data": {
      "text/plain": "array([[[2.83876726e+02, 7.36556745e+02, 6.38298148e+02, ...,\n         4.25807111e+02, 4.36194302e+02, 3.61068933e+03],\n        [3.10553082e+01, 1.89906038e+02, 0.00000000e+00, ...,\n         1.54406480e+04, 1.69843212e+04, 2.93114848e+06],\n        [4.14598925e+02, 2.78730004e+03, 0.00000000e+00, ...,\n         2.39168497e+05, 2.63137761e+05, 4.56215356e+07],\n        ...,\n        [0.00000000e+00, 0.00000000e+00, 0.00000000e+00, ...,\n         0.00000000e+00, 0.00000000e+00, 0.00000000e+00],\n        [0.00000000e+00, 0.00000000e+00, 0.00000000e+00, ...,\n         0.00000000e+00, 0.00000000e+00, 0.00000000e+00],\n        [0.00000000e+00, 0.00000000e+00, 0.00000000e+00, ...,\n         0.00000000e+00, 0.00000000e+00, 0.00000000e+00]],\n\n       [[4.54822218e+02, 1.22094423e+03, 1.00611359e+03, ...,\n         6.85267221e+02, 8.38319493e+02, 7.69692132e+03],\n        [1.14385957e+02, 3.15203577e+02, 1.93101313e+02, ...,\n         1.62516111e+02, 1.10415956e+03, 1.61598835e+04],\n        [8.60730261e+02, 1.63875386e+03, 1.09038679e+03, ...,\n         1.09395087e+03, 3.91715141e+03, 1.47755497e+04],\n        ...,\n        [0.00000000e+00, 0.00000000e+00, 0.00000000e+00, ...,\n         0.00000000e+00, 0.00000000e+00, 0.00000000e+00],\n        [7.13369913e-01, 1.38004307e+00, 0.00000000e+00, ...,\n         8.45738329e-01, 1.29217513e+00, 4.70539441e+00],\n        [0.00000000e+00, 0.00000000e+00, 0.00000000e+00, ...,\n         0.00000000e+00, 0.00000000e+00, 0.00000000e+00]],\n\n       [[1.86783298e+00, 4.54440016e-01, 2.04757199e+00, ...,\n         1.35122159e+00, 1.69118406e+00, 2.16007883e+00],\n        [2.24175561e+00, 1.27367011e+00, 0.00000000e+00, ...,\n         1.33799860e+00, 1.17648509e+00, 9.62691496e-01],\n        [5.99182591e-01, 1.58195436e-01, 6.42419376e-01, ...,\n         4.44515430e-01, 5.56490079e-01, 7.09092744e-01],\n        ...,\n        [0.00000000e+00, 0.00000000e+00, 0.00000000e+00, ...,\n         0.00000000e+00, 0.00000000e+00, 0.00000000e+00],\n        [0.00000000e+00, 0.00000000e+00, 0.00000000e+00, ...,\n         0.00000000e+00, 0.00000000e+00, 0.00000000e+00],\n        [0.00000000e+00, 0.00000000e+00, 0.00000000e+00, ...,\n         0.00000000e+00, 0.00000000e+00, 0.00000000e+00]],\n\n       ...,\n\n       [[1.15670144e+02, 3.13174054e+02, 2.35320974e+02, ...,\n         1.73270737e+02, 4.04660287e+02, 4.85137682e+03],\n        [8.97982624e+02, 1.66172521e+03, 1.14057810e+03, ...,\n         1.12460633e+03, 3.95425120e+03, 1.46873980e+04],\n        [1.61421613e+02, 2.48655963e+02, 1.90027424e+02, ...,\n         1.88512459e+02, 5.03406330e+02, 2.73027057e+03],\n        ...,\n        [0.00000000e+00, 0.00000000e+00, 0.00000000e+00, ...,\n         0.00000000e+00, 0.00000000e+00, 0.00000000e+00],\n        [0.00000000e+00, 0.00000000e+00, 0.00000000e+00, ...,\n         0.00000000e+00, 0.00000000e+00, 0.00000000e+00],\n        [0.00000000e+00, 0.00000000e+00, 0.00000000e+00, ...,\n         0.00000000e+00, 0.00000000e+00, 0.00000000e+00]],\n\n       [[5.59514951e-01, 1.34399253e-01, 6.00869966e-01, ...,\n         4.07821260e-01, 5.22381178e-01, 6.09567729e-01],\n        [1.26094755e+00, 7.86256509e-01, 0.00000000e+00, ...,\n         1.07106110e+00, 8.68836873e-01, 8.52908279e-01],\n        [0.00000000e+00, 0.00000000e+00, 0.00000000e+00, ...,\n         0.00000000e+00, 0.00000000e+00, 0.00000000e+00],\n        ...,\n        [0.00000000e+00, 0.00000000e+00, 0.00000000e+00, ...,\n         0.00000000e+00, 0.00000000e+00, 0.00000000e+00],\n        [0.00000000e+00, 0.00000000e+00, 0.00000000e+00, ...,\n         0.00000000e+00, 0.00000000e+00, 0.00000000e+00],\n        [0.00000000e+00, 0.00000000e+00, 0.00000000e+00, ...,\n         0.00000000e+00, 0.00000000e+00, 0.00000000e+00]],\n\n       [[1.50739955e+01, 7.12147639e+01, 1.99699048e+01, ...,\n         3.23084922e+01, 2.44169814e+01, 6.13448399e+01],\n        [4.79640056e-02, 1.13688266e-01, 0.00000000e+00, ...,\n         5.45285329e-01, 5.90614035e-01, 2.16594435e+01],\n        [8.39438145e-01, 1.95153786e+00, 0.00000000e+00, ...,\n         7.75061210e+00, 8.22519444e+00, 7.34715949e+01],\n        ...,\n        [0.00000000e+00, 0.00000000e+00, 0.00000000e+00, ...,\n         0.00000000e+00, 0.00000000e+00, 0.00000000e+00],\n        [0.00000000e+00, 0.00000000e+00, 0.00000000e+00, ...,\n         0.00000000e+00, 0.00000000e+00, 0.00000000e+00],\n        [0.00000000e+00, 0.00000000e+00, 0.00000000e+00, ...,\n         0.00000000e+00, 0.00000000e+00, 0.00000000e+00]]])"
     },
     "execution_count": 6,
     "metadata": {},
     "output_type": "execute_result"
    }
   ],
   "source": [
    "deserialized_runtimes\n"
   ]
  }
 ],
 "metadata": {
  "kernelspec": {
   "display_name": "Python 3",
   "language": "python",
   "name": "python3"
  },
  "language_info": {
   "codemirror_mode": {
    "name": "ipython",
    "version": 3
   },
   "file_extension": ".py",
   "mimetype": "text/x-python",
   "name": "python",
   "nbconvert_exporter": "python",
   "pygments_lexer": "ipython3",
   "version": "3.7.7"
  }
 },
 "nbformat": 4,
 "nbformat_minor": 4
}
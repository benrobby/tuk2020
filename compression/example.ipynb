{
 "cells": [
  {
   "cell_type": "markdown",
   "metadata": {},
   "source": [
    "# TuK1 - Exercise: Phyiscal Optimization\n",
    "## Compression Selection"
   ]
  },
  {
   "cell_type": "code",
   "execution_count": 7,
   "metadata": {},
   "outputs": [],
   "source": [
    "import enum\n",
    "import pickle\n",
    "import numpy as np\n",
    "import pandas as pd\n",
    "\n",
    "class EncodingType(enum.Enum):\n",
    "    DictionaryFSBA = 0\n",
    "    DictionarySIMDBP128 = 1\n",
    "    FrameOfReferenceFSBA = 2\n",
    "    FrameOfReferenceSIMDBP128 = 3\n",
    "    FixedStringDictionaryFSBA = 4\n",
    "    FixedStringDictionarySIMDBP128 = 5\n",
    "    Unencoded = 6\n",
    "    RunLength = 7\n",
    "    LZ4SIMDBP128 = 8"
   ]
  },
  {
   "cell_type": "code",
   "execution_count": 8,
   "metadata": {},
   "outputs": [],
   "source": [
    "with open('runtimes.pickle', 'rb') as input:\n",
    "    deserialized_runtimes = pickle.load(input)\n",
    "\n",
    "with open('sizes.pickle', 'rb') as input:\n",
    "    deserialized_sizes = pickle.load(input)\n",
    "\n",
    "# Both structures are three-dimensional numpy arrays.\n",
    "# To obtain the size of table_id 5, column 1, and LZ4 Encoding (see above) use deserialized_sizes[5, 1, 8]\n",
    "assert np.shape(deserialized_runtimes) == np.shape(deserialized_sizes)"
   ]
  },
  {
   "cell_type": "code",
   "execution_count": 9,
   "metadata": {},
   "outputs": [
    {
     "data": {
      "text/plain": "   TABLE_ID TABLE_NAME  ROW_COUNT  MAX_CHUNK_SIZE\n0         0   customer     150000          100000\n1         1   lineitem    6001215          100000\n2         2     nation         25          100000\n3         3     orders    1500000          100000\n4         4       part     200000          100000\n5         5   partsupp     800000          100000\n6         6     region          5          100000\n7         7   supplier      10000          100000",
      "text/html": "<div>\n<style scoped>\n    .dataframe tbody tr th:only-of-type {\n        vertical-align: middle;\n    }\n\n    .dataframe tbody tr th {\n        vertical-align: top;\n    }\n\n    .dataframe thead th {\n        text-align: right;\n    }\n</style>\n<table border=\"1\" class=\"dataframe\">\n  <thead>\n    <tr style=\"text-align: right;\">\n      <th></th>\n      <th>TABLE_ID</th>\n      <th>TABLE_NAME</th>\n      <th>ROW_COUNT</th>\n      <th>MAX_CHUNK_SIZE</th>\n    </tr>\n  </thead>\n  <tbody>\n    <tr>\n      <th>0</th>\n      <td>0</td>\n      <td>customer</td>\n      <td>150000</td>\n      <td>100000</td>\n    </tr>\n    <tr>\n      <th>1</th>\n      <td>1</td>\n      <td>lineitem</td>\n      <td>6001215</td>\n      <td>100000</td>\n    </tr>\n    <tr>\n      <th>2</th>\n      <td>2</td>\n      <td>nation</td>\n      <td>25</td>\n      <td>100000</td>\n    </tr>\n    <tr>\n      <th>3</th>\n      <td>3</td>\n      <td>orders</td>\n      <td>1500000</td>\n      <td>100000</td>\n    </tr>\n    <tr>\n      <th>4</th>\n      <td>4</td>\n      <td>part</td>\n      <td>200000</td>\n      <td>100000</td>\n    </tr>\n    <tr>\n      <th>5</th>\n      <td>5</td>\n      <td>partsupp</td>\n      <td>800000</td>\n      <td>100000</td>\n    </tr>\n    <tr>\n      <th>6</th>\n      <td>6</td>\n      <td>region</td>\n      <td>5</td>\n      <td>100000</td>\n    </tr>\n    <tr>\n      <th>7</th>\n      <td>7</td>\n      <td>supplier</td>\n      <td>10000</td>\n      <td>100000</td>\n    </tr>\n  </tbody>\n</table>\n</div>"
     },
     "execution_count": 9,
     "metadata": {},
     "output_type": "execute_result"
    }
   ],
   "source": [
    "tables = pd.read_csv('table_meta_data.csv')\n",
    "tables"
   ]
  },
  {
   "cell_type": "code",
   "execution_count": 10,
   "metadata": {},
   "outputs": [
    {
     "data": {
      "text/plain": "   ATTRIBUTE_ID TABLE_NAME  COLUMN_NAME DATA_TYPE  DISTINCT_VALUE_COUNT  \\\n0           0_0   customer    c_custkey       int                150000   \n1           0_1   customer       c_name    string                150000   \n2           0_2   customer    c_address    string                150000   \n3           0_3   customer  c_nationkey       int                    25   \n4           0_4   customer      c_phone    string                150000   \n..          ...        ...          ...       ...                   ...   \n56          7_2   supplier    s_address    string                 10000   \n57          7_3   supplier  s_nationkey       int                    25   \n58          7_4   supplier      s_phone    string                 10000   \n59          7_5   supplier    s_acctbal     float                  9955   \n60          7_6   supplier    s_comment    string                 10000   \n\n    IS_NULLABLE  \n0         False  \n1         False  \n2         False  \n3         False  \n4         False  \n..          ...  \n56        False  \n57        False  \n58        False  \n59        False  \n60        False  \n\n[61 rows x 6 columns]",
      "text/html": "<div>\n<style scoped>\n    .dataframe tbody tr th:only-of-type {\n        vertical-align: middle;\n    }\n\n    .dataframe tbody tr th {\n        vertical-align: top;\n    }\n\n    .dataframe thead th {\n        text-align: right;\n    }\n</style>\n<table border=\"1\" class=\"dataframe\">\n  <thead>\n    <tr style=\"text-align: right;\">\n      <th></th>\n      <th>ATTRIBUTE_ID</th>\n      <th>TABLE_NAME</th>\n      <th>COLUMN_NAME</th>\n      <th>DATA_TYPE</th>\n      <th>DISTINCT_VALUE_COUNT</th>\n      <th>IS_NULLABLE</th>\n    </tr>\n  </thead>\n  <tbody>\n    <tr>\n      <th>0</th>\n      <td>0_0</td>\n      <td>customer</td>\n      <td>c_custkey</td>\n      <td>int</td>\n      <td>150000</td>\n      <td>False</td>\n    </tr>\n    <tr>\n      <th>1</th>\n      <td>0_1</td>\n      <td>customer</td>\n      <td>c_name</td>\n      <td>string</td>\n      <td>150000</td>\n      <td>False</td>\n    </tr>\n    <tr>\n      <th>2</th>\n      <td>0_2</td>\n      <td>customer</td>\n      <td>c_address</td>\n      <td>string</td>\n      <td>150000</td>\n      <td>False</td>\n    </tr>\n    <tr>\n      <th>3</th>\n      <td>0_3</td>\n      <td>customer</td>\n      <td>c_nationkey</td>\n      <td>int</td>\n      <td>25</td>\n      <td>False</td>\n    </tr>\n    <tr>\n      <th>4</th>\n      <td>0_4</td>\n      <td>customer</td>\n      <td>c_phone</td>\n      <td>string</td>\n      <td>150000</td>\n      <td>False</td>\n    </tr>\n    <tr>\n      <th>...</th>\n      <td>...</td>\n      <td>...</td>\n      <td>...</td>\n      <td>...</td>\n      <td>...</td>\n      <td>...</td>\n    </tr>\n    <tr>\n      <th>56</th>\n      <td>7_2</td>\n      <td>supplier</td>\n      <td>s_address</td>\n      <td>string</td>\n      <td>10000</td>\n      <td>False</td>\n    </tr>\n    <tr>\n      <th>57</th>\n      <td>7_3</td>\n      <td>supplier</td>\n      <td>s_nationkey</td>\n      <td>int</td>\n      <td>25</td>\n      <td>False</td>\n    </tr>\n    <tr>\n      <th>58</th>\n      <td>7_4</td>\n      <td>supplier</td>\n      <td>s_phone</td>\n      <td>string</td>\n      <td>10000</td>\n      <td>False</td>\n    </tr>\n    <tr>\n      <th>59</th>\n      <td>7_5</td>\n      <td>supplier</td>\n      <td>s_acctbal</td>\n      <td>float</td>\n      <td>9955</td>\n      <td>False</td>\n    </tr>\n    <tr>\n      <th>60</th>\n      <td>7_6</td>\n      <td>supplier</td>\n      <td>s_comment</td>\n      <td>string</td>\n      <td>10000</td>\n      <td>False</td>\n    </tr>\n  </tbody>\n</table>\n<p>61 rows × 6 columns</p>\n</div>"
     },
     "execution_count": 10,
     "metadata": {},
     "output_type": "execute_result"
    }
   ],
   "source": [
    "attributes = pd.read_csv('attribute_meta_data.csv')\n",
    "attributes"
   ]
  },
  {
   "cell_type": "markdown",
   "metadata": {},
   "source": [
    "### Let's take a look at the options for the `l_shipdate` column of the `lineitem` table"
   ]
  },
  {
   "cell_type": "code",
   "execution_count": 13,
   "metadata": {},
   "outputs": [],
   "source": [
    "lineitem_id = tables.query('TABLE_NAME == \"lineitem\"').iloc[0]['TABLE_ID']\n",
    "shipdate = attributes.query('COLUMN_NAME == \"l_shipdate\"').iloc[0]['ATTRIBUTE_ID']\n",
    "shipdate_id = int(str(shipdate).split('_')[1])\n",
    "print(shipdate_id)\n",
    "for encoding in EncodingType:\n",
    "    runtime = deserialized_runtimes[lineitem_id, shipdate_id, encoding.value]\n",
    "    size = deserialized_sizes[lineitem_id, shipdate_id, encoding.value]\n",
    "    if size < np.finfo(np.float64).max:\n",
    "        print(f'Encoding {encoding: <44} >> runtime: {runtime: >15,.2f}', end='')\n",
    "        print(f'\\tsize: {size: >15,.2f}')\n",
    "    else:\n",
    "        print(f'\\tLeft out {encoding} as it apparently not supporting the data type of the requested column.')\n",
    "        print('\\tThis is marked (admittedly not very nice) with 0.0 runtimes and a size of np.finfo(np.float64).max bytes')"
   ]
  },
  {
   "cell_type": "code",
   "execution_count": 11,
   "metadata": {},
   "outputs": [],
   "source": []
  }
 ],
 "metadata": {
  "kernelspec": {
   "display_name": "Python 3",
   "language": "python",
   "name": "python3"
  },
  "language_info": {
   "codemirror_mode": {
    "name": "ipython",
    "version": 3
   },
   "file_extension": ".py",
   "mimetype": "text/x-python",
   "name": "python",
   "nbconvert_exporter": "python",
   "pygments_lexer": "ipython3",
   "version": "3.7.7"
  }
 },
 "nbformat": 4,
 "nbformat_minor": 4
}